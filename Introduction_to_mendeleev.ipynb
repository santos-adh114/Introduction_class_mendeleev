{
 "cells": [
  {
   "cell_type": "markdown",
   "metadata": {},
   "source": [
    "## Introduction to Mendeleev:\n",
    "Mendeleev (https://pypi.org/project/mendeleev/) interfaced to python is a great way to extract the physical and chemical properties of the elements listed\n",
    "in the Mendeleev periodic table. It is a great documentation. the installation is simple: Follow the link\n",
    "    (https://mendeleev.readthedocs.io/en/stable/install.html).\n",
    "    \n",
    "For more details please see the tutorial in the official website: \n",
    "    (https://mendeleev.readthedocs.io/en/stable/tutorials.html).\n",
    "        \n",
    "Below we are focusing on what suits best for our research and task. We begin by importing Mendeleev"
   ]
  },
  {
   "cell_type": "code",
   "execution_count": null,
   "metadata": {},
   "outputs": [],
   "source": [
    "import mendeleev as md"
   ]
  },
  {
   "cell_type": "markdown",
   "metadata": {},
   "source": [
    "There are two ways of extracting elemental information from Mendeleev. \n",
    "First way:\n",
    "Import the function element from Mendeleev, and use atomic number (1 - present_max.), symbol (eg. 'H', 'He', etc.) \n",
    "or name ('Hydrogen', 'Helium', etc.). Then get the information for respective elements"
   ]
  },
  {
   "cell_type": "code",
   "execution_count": null,
   "metadata": {},
   "outputs": [],
   "source": [
    "from mendeleev import element#(same as: md.element)\n",
    "element_id=element(\"H\")   \n",
    "#element_id=element(\"Hydrogen\")\n",
    "#element_id=element(1)\n",
    "print(element_id.name)"
   ]
  },
  {
   "cell_type": "markdown",
   "metadata": {},
   "source": [
    "Second way: Directly import the properties for atoms using \"from mendeleev import H (or He etc.)\" "
   ]
  },
  {
   "cell_type": "code",
   "execution_count": null,
   "metadata": {},
   "outputs": [],
   "source": [
    "from mendeleev import H\n",
    "print(H.name)"
   ]
  },
  {
   "cell_type": "markdown",
   "metadata": {},
   "source": [
    "Check the Mendeleev website for details on the features. I will show how to extract few features of the elements \n",
    "with atomic number 1 to 100."
   ]
  },
  {
   "cell_type": "code",
   "execution_count": null,
   "metadata": {},
   "outputs": [],
   "source": [
    "for i in range (1,101):\n",
    "    elem=element(i)\n",
    "    element_name=elem.name\n",
    "    element_symbol=elem.symbol\n",
    "    element_atomic_number=elem.atomic_number\n",
    "    element_charge=0\n",
    "    if i not in [2,10,18,36,54,86]:\n",
    "        element_charge=elem.ionic_radii[0].charge\n",
    "    print('%s\\t %d\\t %s\\t %d\\n'%(element_name,element_atomic_number,element_symbol,element_charge))"
   ]
  },
  {
   "cell_type": "markdown",
   "metadata": {},
   "source": [
    "Please go through the documentations referenced above for extracting more elemental properties."
   ]
  },
  {
   "cell_type": "markdown",
   "metadata": {},
   "source": [
    "Please feel free to write at tuf60388@temple.edu or santosha@mailbox.sc.edu if you have any questions/comments/suggestions\n",
    "regarding this little demonstration of Mendeleev."
   ]
  }
 ],
 "metadata": {
  "kernelspec": {
   "display_name": "Python 3",
   "language": "python",
   "name": "python3"
  },
  "language_info": {
   "codemirror_mode": {
    "name": "ipython",
    "version": 3
   },
   "file_extension": ".py",
   "mimetype": "text/x-python",
   "name": "python",
   "nbconvert_exporter": "python",
   "pygments_lexer": "ipython3",
   "version": "3.7.1"
  }
 },
 "nbformat": 4,
 "nbformat_minor": 2
}
