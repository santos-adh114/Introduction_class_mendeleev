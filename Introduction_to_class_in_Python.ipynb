{
 "cells": [
  {
   "cell_type": "markdown",
   "metadata": {},
   "source": [
    "## Introduction to Classes\n",
    "You can find a number of online tutorials on fundamental concepts regarding what attributes, methods\n",
    "and classes are. Below I am presenting two simple and practical uses of classes in python.\n",
    "## 1. Calculator\n",
    "Below we are setting up a calculator which can perform addition, subtraction, square root, .. etc.\n",
    "By convention, first letter of the class name (Calculator in our case) is Capitalized. Feel free to change it and keep track of the changes."
   ]
  },
  {
   "cell_type": "code",
   "execution_count": 1,
   "metadata": {},
   "outputs": [
    {
     "name": "stdout",
     "output_type": "stream",
     "text": [
      "8 5.0 4.0 3.2\n"
     ]
    }
   ],
   "source": [
    "class Calculator:\n",
    "    def __init__(self,a,b):\n",
    "        self.a=a\n",
    "        self.b=b\n",
    "    def add(a,b):\n",
    "        return a+b\n",
    "    def subtract(a,b):\n",
    "        return a-b\n",
    "    def multiply(a,b):\n",
    "        return a*b\n",
    "    def divide(a,b):\n",
    "        return a/b\n",
    "    def square_root(a):\n",
    "        import math\n",
    "        return math.sqrt(a)\n",
    "    def power(a,b):\n",
    "        return pow(a,b)\n",
    "    def average(a,b):\n",
    "        return Calculator.add(a,b)/2\n",
    "    def geometric_mean(a,b):\n",
    "        return Calculator.square_root(Calculator.multiply(a,b))\n",
    "    def harmonic_mean(a,b):\n",
    "        return 2.0*Calculator.divide(Calculator.multiply(a,b),Calculator.add(a,b))\n",
    "    \n",
    "#print(Calculator.add(1,2),Calculator.subtract(1,2),Calculator.multiply(1,2),Calculator.divide(1,2),Calculator.square_root(2))\n",
    "\n",
    "print(Calculator.power(2,3),Calculator.average(2,8),Calculator.geometric_mean(2,8),Calculator.harmonic_mean(2,8))"
   ]
  },
  {
   "cell_type": "markdown",
   "metadata": {},
   "source": [
    "## 2. ContactBook\n",
    "This class stores the contact information of students/employee in college/office and searches for them based on the\n",
    "unique identification Id provided to each of them. The following block of code sets up the dictionary, while the next \n",
    "block helps to extract information from it."
   ]
  },
  {
   "cell_type": "code",
   "execution_count": 21,
   "metadata": {},
   "outputs": [],
   "source": [
    "class ContactBook:\n",
    "    def __init__(self):\n",
    "        self.information_dictionary={}\n",
    "    def add_dictionary(self,identity_number,name,age,email,telephone,office_number):\n",
    "        self.information_dictionary.update({identity_number:[name,age,email,telephone,office_number]})\n",
    "    def check_entry(dict_main,number):\n",
    "        for keys in dict_main:\n",
    "            if int(keys)==int(number):\n",
    "                return dict_main[keys]\n",
    "            else:\n",
    "                pass\n",
    "        return \"entry does not exist\"\n"
   ]
  },
  {
   "cell_type": "code",
   "execution_count": 25,
   "metadata": {},
   "outputs": [
    {
     "name": "stdout",
     "output_type": "stream",
     "text": [
      "['OPQRSTUV_WXYZAB', 40, 'opqrstuv@wxyzab.com', 2134567890, '432']\n"
     ]
    }
   ],
   "source": [
    "def split_file_to_lines(a):\n",
    "    file1=open(a,'rt')\n",
    "    lst=[]\n",
    "    for lines in file1:\n",
    "        lst.append(lines.split())\n",
    "    file1.close()\n",
    "    return lst\n",
    "CB=ContactBook()\n",
    "list_contacts=split_file_to_lines('Contacts')\n",
    "for i in range (1,len(list_contacts),1):\n",
    "    CB.add_dictionary(int(list_contacts[i][0]),list_contacts[i][1],int(list_contacts[i][2]),list_contacts[i][3],int(list_contacts[i][4]),list_contacts[i][5])\n",
    "#print(CB.information_dictionary)\n",
    "print(ContactBook.check_entry(CB.information_dictionary,2))"
   ]
  },
  {
   "cell_type": "markdown",
   "metadata": {},
   "source": [
    "Please feel free to contact at tuf60388@temple.edu or santosha@mailbox.sc.edu if you have questions/comments/suggestions\n",
    "regarding the two examples that I shared."
   ]
  }
 ],
 "metadata": {
  "kernelspec": {
   "display_name": "Python 3",
   "language": "python",
   "name": "python3"
  },
  "language_info": {
   "codemirror_mode": {
    "name": "ipython",
    "version": 3
   },
   "file_extension": ".py",
   "mimetype": "text/x-python",
   "name": "python",
   "nbconvert_exporter": "python",
   "pygments_lexer": "ipython3",
   "version": "3.7.1"
  }
 },
 "nbformat": 4,
 "nbformat_minor": 2
}
